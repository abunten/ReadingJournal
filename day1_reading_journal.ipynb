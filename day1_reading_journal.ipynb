{
 "cells": [
  {
   "cell_type": "markdown",
   "metadata": {},
   "source": [
    "# Day 1 Reading Journal\n",
    "\n",
    "Hi everyone.  These are the exercises for the first set of readings from ThinkPython.  While this journal consists of several required exercises, it is meant to encourage active reading more generally.  You should use this journal to take detailed notes, catalog questions, and explore the content from ThinkPython deeply.\n",
    "\n",
    "For more information on using the Jupyter notebook, check out the documentation [here](https://www.datacamp.com/community/tutorials/tutorial-jupyter-notebook##UseJupyter).\n",
    "\n",
    "Additionally, in order to write text in this document, you will be making use of Markdown cells. A handy cheatsheet for Markdown is available [here](https://github.com/adam-p/markdown-here/wiki/Markdown-Cheatsheet)."
   ]
  },
  {
   "cell_type": "markdown",
   "metadata": {},
   "source": [
    "## Chapter 1\n",
    "\n",
    "Note: the exercise numbers below match up with the reading for ease of cross referencing."
   ]
  },
  {
   "cell_type": "code",
   "execution_count": 7,
   "metadata": {
    "collapsed": false
   },
   "outputs": [
    {
     "name": "stdout",
     "output_type": "stream",
     "text": [
      "Hello, World!\n"
     ]
    }
   ],
   "source": [
    "print('Hello, World!')"
   ]
  },
  {
   "cell_type": "markdown",
   "metadata": {},
   "source": [
    "Use the standard arithmetic symbols to do math in python. The operator '**' performs exponentation (and apparently makes things bold in writing)\n",
    "\n",
    "integer - 2\n",
    "floating-point number - 42.0\n",
    "string - 'Hello World!'\n",
    "\n",
    "If you ever want to know what type a variable is you can use:\n",
    ">>> type(2)\n",
    "<class 'int'>\n",
    "\n",
    "If you use '' for numbers, they will be classified as strings.\n",
    "\n",
    "Don't use commas in big numbers.\n",
    "\n",
    "Natural languages - people speak: English/Spanish/French\n",
    "Formal languages - designed for specific applications: math notation/programming languages\n",
    "\n",
    "syntax - strict rules that govrn the structure of statements\n",
    "tokens - basic elements of the language: words/numbers/elements\n",
    "parsing - figuring out the structure of a statement\n",
    "\n",
    "ambiguity - natural languages are ripe with ambiguity and confusion, formal languages dont have this\n",
    "redundancy - formal languages don't have any extra words, they arent reduntant but very consice\n",
    "literalness - formal languages dont have any idioms or metaphors\n",
    "\n",
    "debugging!\n",
    "Errors are called bugs - getting rid of them is called debugging"
   ]
  },
  {
   "cell_type": "markdown",
   "metadata": {},
   "source": [
    "### Exercise 1.4\n",
    "\n",
    "Start the Python interpreter and use it as a simple calculator. Python’s syntax for math operations is almost the same as standard mathematical notation. For example, the symbols +, - and / denote addition, subtraction and division, as you would expect. The symbol for multiplication is *\n",
    "\n",
    "* How many seconds are there in 42 minutes 42 seconds?\n",
    "* How many miles are there in 10 kilometers? Hint: there are 1.61 kilometers in a mile.\n",
    "* If you run a 10 kilometer race in 42 minutes 42 seconds, what is your average pace (time per mile in minutes and seconds)? What is your average speed in miles per hour?\n",
    "\n",
    "Please use the following markdown cell to provide your answers."
   ]
  },
  {
   "cell_type": "code",
   "execution_count": 3,
   "metadata": {
    "collapsed": false
   },
   "outputs": [
    {
     "data": {
      "text/plain": [
       "2562"
      ]
     },
     "execution_count": 3,
     "metadata": {},
     "output_type": "execute_result"
    }
   ],
   "source": [
    "42*60+42"
   ]
  },
  {
   "cell_type": "code",
   "execution_count": 4,
   "metadata": {
    "collapsed": false
   },
   "outputs": [
    {
     "data": {
      "text/plain": [
       "16.1"
      ]
     },
     "execution_count": 4,
     "metadata": {},
     "output_type": "execute_result"
    }
   ],
   "source": [
    "10*1.61"
   ]
  },
  {
   "cell_type": "code",
   "execution_count": 8,
   "metadata": {
    "collapsed": false
   },
   "outputs": [
    {
     "data": {
      "text/plain": [
       "0.3770491803278689"
      ]
     },
     "execution_count": 8,
     "metadata": {},
     "output_type": "execute_result"
    }
   ],
   "source": [
    "16.1/(2562/60)"
   ]
  },
  {
   "cell_type": "code",
   "execution_count": 9,
   "metadata": {
    "collapsed": false
   },
   "outputs": [
    {
     "data": {
      "text/plain": [
       "22.622950819672134"
      ]
     },
     "execution_count": 9,
     "metadata": {},
     "output_type": "execute_result"
    }
   ],
   "source": [
    "16.1/(2562/3600)"
   ]
  },
  {
   "cell_type": "markdown",
   "metadata": {},
   "source": []
  },
  {
   "cell_type": "markdown",
   "metadata": {},
   "source": [
    "## Chapter 2"
   ]
  },
  {
   "cell_type": "markdown",
   "metadata": {},
   "source": [
    "assignment statement - creates a new variable and gives it value\n",
    "state diagram - a common way of representing variables on paper by writing them with an arrow pointing to its value\n",
    "\n",
    "Variable names can be as long as you like, with letters and numbers. They can't begin with a number though. While allowed, it's not convention to use uppercase letters in variable names. ex: your_name, help_me\n",
    "\n",
    "keywords - words that are used to recognize the structure of the program (these are often displayed in different colors in ide's)\n",
    "\n",
    "expressions - combination of values, variables and operators\n",
    "statement - unit of code that has an effect\n",
    "execute - when an interpreter does whatever the statement says\n",
    "\n",
    "interactive mode - when the coder interacts directly with the interpreter\n",
    "script - a file with code saved in it, usually ends in .py\n",
    "script mode - a way to run a script\n",
    "\n",
    "PEMDAS is used in python\n",
    "\n",
    "You can't perform mathmatical operations on strings, exept for + and *.   *\n",
    "String concatenation - by using + with strings, yo ucan join them together\n",
    "    ex: first = 'throat'\n",
    "        second = 'warbler'\n",
    "        first + second\n",
    "        = throatwarbler\n",
    "Repetition can be performed with the * operator.\n",
    "    ex: 'Spam'*3 is 'SpamSpamSpam'\n",
    "    \n",
    "In order to write comments, use the # symbol. They can be on their own or after code on the same line. Use comments to explain the code.\n",
    "\n",
    "Debugging:\n",
    "Syntax error: when the structure of the program is wrong such as missing one parentheses of a pair\n",
    "Runtime error: when an error does not surface until the program is running, also called exceptions\n",
    "Semantic error: if the code is correct, but the program does't do what you want"
   ]
  },
  {
   "cell_type": "markdown",
   "metadata": {},
   "source": [
    "### Exercise\n",
    "\n",
    "Assume that we execute the following assignment statements:\n",
    "\n",
    "```\n",
    "width = 17\n",
    "height = 12.0\n",
    "delimiter = '.'\n",
    "```\n",
    "\n",
    "For each of the following expressions, write the value of the expression and the type (of the value of the expression).\n",
    "\n",
    "Example: `width * 2` <br/>\n",
    "Answer: 34, integer\n",
    "\n",
    "1. `width/2`\n",
    "2. `width/2.0`\n",
    "3. `height/3`\n",
    "4. `1 + 2 * 5`\n",
    "5. `delimiter * 5`\n",
    "\n",
    "Please use the following markdown cell to provide your answer."
   ]
  },
  {
   "cell_type": "code",
   "execution_count": 5,
   "metadata": {
    "collapsed": false
   },
   "outputs": [],
   "source": [
    "width = 17\n",
    "height = 12.0\n",
    "delimiter = '.'\n",
    "\n",
    "1. 8.5, float\n",
    "2. 8.5, float\n",
    "3. 4.0, float\n",
    "4. 11, int\n",
    "5. '.....', str"
   ]
  },
  {
   "cell_type": "markdown",
   "metadata": {},
   "source": []
  },
  {
   "cell_type": "markdown",
   "metadata": {},
   "source": [
    "### Exercise 2.2\n",
    "\n",
    "Practice using the Python interpreter as a calculator.  For each of these provide Python code that computes each answer."
   ]
  },
  {
   "cell_type": "markdown",
   "metadata": {},
   "source": [
    "The volume of a sphere with radius r is $4/3 \\pi  r^3$. What is the volume of a sphere with radius 5? <br />\n",
    "Hint: 392.7 is wrong! You can approximate pi with 3.14 or import it through the Python math library."
   ]
  },
  {
   "cell_type": "code",
   "execution_count": 17,
   "metadata": {
    "collapsed": false
   },
   "outputs": [
    {
     "data": {
      "text/plain": [
       "523.3333333333334"
      ]
     },
     "execution_count": 17,
     "metadata": {},
     "output_type": "execute_result"
    }
   ],
   "source": [
    "(4/3)*3.14*(5**3)"
   ]
  },
  {
   "cell_type": "markdown",
   "metadata": {},
   "source": [
    "Suppose the cover price of a book is \\$24.95, but bookstores get a 40% discount. Shipping costs \\$3 for the first copy and 75 cents for each additional copy. What is the total wholesale cost for 60 copies?"
   ]
  },
  {
   "cell_type": "code",
   "execution_count": 19,
   "metadata": {
    "collapsed": false
   },
   "outputs": [
    {
     "data": {
      "text/plain": [
       "945.4499999999999"
      ]
     },
     "execution_count": 19,
     "metadata": {},
     "output_type": "execute_result"
    }
   ],
   "source": [
    "60*(24.95-(24.95*.4))+3+(.75*59)"
   ]
  },
  {
   "cell_type": "markdown",
   "metadata": {},
   "source": [
    "If I leave my house at 6:52 am and run 1 mile at an easy pace (8:15 per mile), then 3 miles at tempo (7:12 per mile) and 1 mile at easy pace again, what time do I get home for breakfast? "
   ]
  },
  {
   "cell_type": "code",
   "execution_count": 20,
   "metadata": {
    "collapsed": false
   },
   "outputs": [
    {
     "data": {
      "text/plain": [
       "38.1"
      ]
     },
     "execution_count": 20,
     "metadata": {},
     "output_type": "execute_result"
    }
   ],
   "source": [
    "(2*8.25)+(3*7.2)"
   ]
  },
  {
   "cell_type": "code",
   "execution_count": 26,
   "metadata": {
    "collapsed": false,
    "scrolled": true
   },
   "outputs": [
    {
     "data": {
      "text/plain": [
       "7.501666666666667"
      ]
     },
     "execution_count": 26,
     "metadata": {},
     "output_type": "execute_result"
    }
   ],
   "source": [
    "((38.1+52)/60)+6"
   ]
  },
  {
   "cell_type": "markdown",
   "metadata": {},
   "source": [
    "answer is approximately 7:30 am"
   ]
  },
  {
   "cell_type": "markdown",
   "metadata": {},
   "source": []
  },
  {
   "cell_type": "markdown",
   "metadata": {},
   "source": [
    "## Chapter 3"
   ]
  },
  {
   "cell_type": "markdown",
   "metadata": {},
   "source": [
    "Functions are something that takes an arguments and a result, called a returnn value, will be returned.\n",
    "    ex: >>> type(42) #type is the function and 42 is the argument\n",
    "        <class 'int'>\n",
    "The int() function takes any number and converts it to an integer (does not round).\n",
    "The float() function converts any number to a floating-point number.\n",
    "The str() function converts a argument to a string.\n",
    "\n",
    "module - a file that contains a collection of related functions\n",
    "import statement - in order to use ceritan functions, you need to import them\n",
    "In order to access the functions in a module object, you use dot notation.\n",
    "    ex: decibels = 10 * math.log10(ratio)\n",
    "When using trig in python, convert to radians.\n",
    "\n",
    "Always put the variable name to the left of the statement.\n",
    "\n",
    "Function definition:\n",
    "        def print_lyrics():     #header line\n",
    "        print(\"I'm a lumberjack, and I'm okay.\")     #body\n",
    "        print(\"I sleep all night and I work all day.\")\n",
    "        \n",
    "To end a function, you have to enter an empty line.\n",
    "Single and double quotes to the same thing, use single quotes unles an apostrophe is used in the string, etc.\n",
    "\n",
    "ex:\n",
    "    def print_lyrics():\n",
    "        print(\"wow\")\n",
    "        print(\"ayy\")\n",
    "        \n",
    "    def repeat_lyrics():\n",
    "        print_lyrics()\n",
    "        print_lyrics()\n",
    "    \n",
    "    repeat_lyrics()\n",
    "\n",
    "\n",
    "Flow execution is the order the staements run in.\n",
    "\n",
    "Inside the function, the arguments are assigned to varibales called parameters.\n",
    "You can use a variable as an argument\n",
    "\n",
    "local - when a variable is inside a function and only exists there: both variables and parameters are local\n",
    "\n",
    "traceback - a list of functions that tells you what prgram file the erroe occured in\n",
    "\n",
    "fruitful functions - functions that return a value: make sure to save these to a variable\n",
    "void functions - functions that dont return a value: if assigned to a variable will get a 'None' value"
   ]
  },
  {
   "cell_type": "markdown",
   "metadata": {},
   "source": [
    "### Exercise 3.1\n",
    "\n",
    "Write a function named `right_justify` that takes a string named s as a parameter and prints the string with enough leading spaces so that the last letter of the string is in column 70 of the display.\n",
    "\n",
    "```\n",
    ">>> right_justify('monty')\n",
    "                                                                 monty\n",
    "```\n",
    "Hint: Use string concatenation and repetition. Also, Python provides a built-in function called `len` that returns the length of a string, so the value of `len('monty')` is 5."
   ]
  },
  {
   "cell_type": "code",
   "execution_count": 12,
   "metadata": {
    "collapsed": false
   },
   "outputs": [
    {
     "name": "stdout",
     "output_type": "stream",
     "text": [
      "                                                                 hello\n"
     ]
    }
   ],
   "source": [
    "def right_justify(s):\n",
    "    print((70-len(s))* ' ' + s)\n",
    "right_justify('hello')"
   ]
  },
  {
   "cell_type": "markdown",
   "metadata": {},
   "source": [
    "### Exercise 3.3\n",
    "\n",
    "Note: This exercise should be done using only the statements and other features we have learned so far.\n",
    "\n",
    "1\\. Write a function that draws a grid like the following:\n",
    "\n",
    "```\n",
    "+ - - - - + - - - - +\n",
    "|         |         |\n",
    "|         |         |\n",
    "|         |         |\n",
    "|         |         |\n",
    "+ - - - - + - - - - +\n",
    "|         |         |\n",
    "|         |         |\n",
    "|         |         |\n",
    "|         |         |\n",
    "+ - - - - + - - - - +\n",
    "```\n",
    "Note: There are four empty spaces between the vertical bars.\n",
    "\n",
    "To print more than one value on a line, you can print a comma-separated sequence of values:\n",
    "\n",
    "```\n",
    "print('+', '-')\n",
    "```\n",
    "\n",
    "By default, `print` advances to the next line, but you can override that behavior and put a space at the end, like this:\n",
    "\n",
    "```\n",
    "print('+', end=' ')\n",
    "print('-')\n",
    "```\n",
    "\n",
    "The output of these statements is '+ -'.\n",
    "\n",
    "A `print` statement with no argument ends the current line and goes to the next line."
   ]
  },
  {
   "cell_type": "code",
   "execution_count": 29,
   "metadata": {
    "collapsed": false
   },
   "outputs": [
    {
     "name": "stdout",
     "output_type": "stream",
     "text": [
      "+ - - - - + - - - - +\n",
      "|         |         |\n",
      "|         |         |\n",
      "|         |         |\n",
      "|         |         |\n",
      "+ - - - - + - - - - +\n",
      "|         |         |\n",
      "|         |         |\n",
      "|         |         |\n",
      "|         |         |\n",
      "+ - - - - + - - - - +\n"
     ]
    }
   ],
   "source": [
    "def do_four(f):\n",
    "    print(f)\n",
    "    print(f)\n",
    "    print(f)\n",
    "    print(f)\n",
    "def four_grid():\n",
    "    beam = '+ - - - - '\n",
    "    post = '|         '\n",
    "    col1 = beam*2 + '+'\n",
    "    col2 = post*2 + '|'\n",
    "    print(col1)\n",
    "    do_four(col2)\n",
    "    print(col1)\n",
    "    do_four(col2)\n",
    "    print(col1)\n",
    "four_grid()"
   ]
  },
  {
   "cell_type": "markdown",
   "metadata": {},
   "source": [
    "2\\. Write a function that draws a similar grid with four rows and four columns."
   ]
  },
  {
   "cell_type": "code",
   "execution_count": 43,
   "metadata": {
    "collapsed": false
   },
   "outputs": [
    {
     "name": "stdout",
     "output_type": "stream",
     "text": [
      "+ - - - - + - - - - + - - - - + - - - - +\n",
      "|         |         |         |         |\n",
      "|         |         |         |         |\n",
      "|         |         |         |         |\n",
      "|         |         |         |         |\n",
      "+ - - - - + - - - - + - - - - + - - - - +\n",
      "|         |         |         |         |\n",
      "|         |         |         |         |\n",
      "|         |         |         |         |\n",
      "|         |         |         |         |\n",
      "+ - - - - + - - - - + - - - - + - - - - +\n",
      "|         |         |         |         |\n",
      "|         |         |         |         |\n",
      "|         |         |         |         |\n",
      "|         |         |         |         |\n",
      "+ - - - - + - - - - + - - - - + - - - - +\n",
      "|         |         |         |         |\n",
      "|         |         |         |         |\n",
      "|         |         |         |         |\n",
      "|         |         |         |         |\n",
      "+ - - - - + - - - - + - - - - + - - - - +\n"
     ]
    }
   ],
   "source": [
    "def do_four(f):\n",
    "    print(f)\n",
    "    print(f)\n",
    "    print(f)\n",
    "    print(f)\n",
    "def four_grid():\n",
    "    beam = '+ - - - - '\n",
    "    post = '|         '\n",
    "    col1 = beam*4 + '+'\n",
    "    col2 = post*4 + '|'\n",
    "    print(col1)\n",
    "    do_four(col2)\n",
    "    print(col1)\n",
    "    do_four(col2)\n",
    "    print(col1)\n",
    "    do_four(col2)\n",
    "    print(col1)\n",
    "    do_four(col2)\n",
    "    print(col1)\n",
    "four_grid()"
   ]
  },
  {
   "cell_type": "markdown",
   "metadata": {},
   "source": [
    "## Chapter 5.1 - 5.7"
   ]
  },
  {
   "cell_type": "markdown",
   "metadata": {},
   "source": [
    "floor divison - // - divides two numbers and rounds down to an integer\n",
    "    ex: minutes = 105\n",
    "        hours = minutes // 60\n",
    "        hours\n",
    "            1\n",
    "modulus operator - % - divides two numbers and returns the remainder\n",
    "\n",
    "boolean - a true or false expression\n",
    "    ex: 5 == 5\n",
    "            true\n",
    "        5 == 6\n",
    "            false\n",
    "relational operators:\n",
    "    x != y   -   # x is not equal to y\n",
    "    x > y   -   # x is greater than y\n",
    "    x < y   -   # x is less than y\n",
    "    x >= y   -   # x is greater than or equal to y\n",
    "    x <= y   -   # x is less than or equal to y\n",
    "\n",
    "logical operators\n",
    "    and\n",
    "        ex: x > 0 and x < 10\n",
    "    or\n",
    "        ex: n%2 == 0 or n%3 == 0\n",
    "    not\n",
    "        ex: not (x > y)\n",
    "\n",
    "conditional statements\n",
    "    if statement - does something only if something (the condition) is true\n",
    "        ex: if x > 0:\n",
    "                print('x is positive')\n",
    "    else-if statements - another form of the if statement, gives more than one option\n",
    "        ex: if x < y:\n",
    "                print('x is less than y')\n",
    "            elif x > y:      # abreviation for else-if\n",
    "                print('x is greater than y')\n",
    "            else:\n",
    "                print('x and y are equal')\n",
    "     \n",
    "recursion - when a function calls itself\n",
    "    ex: def countdown(n):\n",
    "            if n <= 0:\n",
    "                print('Blastoff!')\n",
    "            else:\n",
    "                print(n)\n",
    "                countdown(n-1)\n",
    "infinite recursion - when the recursion never reaches the basse case and goes on forever and the program never terminated\n",
    "\n",
    "input\n",
    "    ex: name = input('What is your name?\\n')"
   ]
  },
  {
   "cell_type": "markdown",
   "metadata": {},
   "source": [
    "### Exercise 5.2\n",
    "\n",
    "Fermat’s Last Theorem says that there are no positive integers $a$, $b$, and $c$ such that $$a^n + b^n = c^n$$ for any values of $n$ greater than 2.\n",
    "\n",
    "1\\. Write a function named `check_fermat` that takes four parameters – $a$, $b$, $c$ and $n$ – and that checks to see if Fermat’s theorem holds. If n is greater than 2 and it turns out to be true that\n",
    "$a^n + b^n = c^n$, then the program should print: \"Holy smokes, Fermat was wrong!\" Otherwise the program should print: \"No, that doesn’t work.\""
   ]
  },
  {
   "cell_type": "code",
   "execution_count": 42,
   "metadata": {
    "collapsed": false
   },
   "outputs": [
    {
     "name": "stdout",
     "output_type": "stream",
     "text": [
      "No, that doesnt work\n"
     ]
    }
   ],
   "source": [
    "a = 5\n",
    "b = 11\n",
    "c = 3\n",
    "n = 3\n",
    "def check_fermat(a, b, c, n):\n",
    "    one = a**n + b**n\n",
    "    two = c**n\n",
    "    if one == two:\n",
    "        print(\"Holy smokes, Fermat was wrong!\")\n",
    "    else:\n",
    "        print(\"No, that doesnt work\")\n",
    "check_fermat(a, b, c, n)"
   ]
  },
  {
   "cell_type": "markdown",
   "metadata": {},
   "source": [
    "2\\. Write a function that prompts the user to input values for $a$, $b$, $c$ and $n$, converts them to integers, and uses `check_fermat` to check whether they violate Fermat’s theorem."
   ]
  },
  {
   "cell_type": "code",
   "execution_count": 58,
   "metadata": {
    "collapsed": false
   },
   "outputs": [
    {
     "name": "stdout",
     "output_type": "stream",
     "text": [
      "Please enter a value for 'a':3.6\n",
      "3\n",
      "Please enter a value for 'b':2\n",
      "2\n",
      "Please enter a value for 'c':88.5\n",
      "88\n",
      "Please enter a value for the exponent 'n':1.34\n",
      "1\n",
      "No, that doesnt work\n"
     ]
    }
   ],
   "source": [
    "prompt = \"Please enter a value for 'a':\"\n",
    "prompt2 = \"Please enter a value for 'b':\"\n",
    "prompt3 = \"Please enter a value for 'c':\"\n",
    "prompt4 = \"Please enter a value for the exponent 'n':\"\n",
    "\n",
    "def user(a,b,c,n):\n",
    "    a = float(input(prompt))\n",
    "    a = int(a)\n",
    "    print(a)\n",
    "    b = float(input(prompt2))\n",
    "    b = int(b)\n",
    "    print(b)\n",
    "    c = float(input(prompt3))\n",
    "    c = int(c)\n",
    "    print(c)\n",
    "    n = float(input(prompt4))\n",
    "    n = int(n)\n",
    "    print(n)\n",
    "user(a,b,c,n)\n",
    "\n",
    "def check_fermat(a, b, c, n):\n",
    "    one = a**n + b**n\n",
    "    two = c**n\n",
    "    if one == two:\n",
    "        print(\"Holy smokes, Fermat was wrong!\")\n",
    "    else:\n",
    "        print(\"No, that doesnt work\")\n",
    "check_fermat(a, b, c, n)"
   ]
  },
  {
   "cell_type": "markdown",
   "metadata": {},
   "source": [
    "### Exercise 5.3 \n",
    "\n",
    "If you are given three sticks, you may or may not be able to arrange them in a triangle. For example, if one of the sticks is 12 inches long and the other two are one inch long, it is clear that you will not be able to get the short sticks to meet in the middle. For any three lengths, there is a simple test to see if it is possible to form a triangle:\n",
    "> If any of the three lengths is greater than the sum of the other two, then you cannot form a triangle. Otherwise, you can. (If the sum of two lengths equals the third, they form what is called a “degenerate” triangle.)\n",
    "\n",
    "1\\. Write a function named `is_triangle` that takes three integers as arguments, and that prints either \"Yes\" or \"No,\" depending on whether you can or cannot form a triangle from sticks with the given lengths."
   ]
  },
  {
   "cell_type": "code",
   "execution_count": 69,
   "metadata": {
    "collapsed": false
   },
   "outputs": [
    {
     "name": "stdout",
     "output_type": "stream",
     "text": [
      "yes\n"
     ]
    }
   ],
   "source": [
    "l1 = 4;\n",
    "l2 = 3;\n",
    "l3 = 5;\n",
    "\n",
    "def is_triangle(l1, l2, l3):\n",
    "    if (l1 + l2) <= l3:\n",
    "        print('no')\n",
    "    elif (l1 + l2) <= l3:\n",
    "        print('no')\n",
    "    elif (l2 + l3) <= l1:\n",
    "        print('no')\n",
    "    else:\n",
    "        print('yes')\n",
    "is_triangle(l1, l2, l3)"
   ]
  },
  {
   "cell_type": "markdown",
   "metadata": {},
   "source": [
    "2\\. Write a function that prompts the user to input three stick lengths, converts them to integers, and uses `is_triangle` to check whether sticks with the given lengths can form a triangle."
   ]
  },
  {
   "cell_type": "code",
   "execution_count": 70,
   "metadata": {
    "collapsed": false
   },
   "outputs": [
    {
     "name": "stdout",
     "output_type": "stream",
     "text": [
      "Please enter the first triangle side:4\n",
      "4\n",
      "Please enter the second triangle side:5.7\n",
      "5\n",
      "Please enter the third triangle side:23.1\n",
      "23\n",
      "no\n"
     ]
    }
   ],
   "source": [
    "prompt = \"Please enter the first triangle side:\"\n",
    "l1 = float(input(prompt))\n",
    "l1 = int(l1)\n",
    "print(l1)\n",
    "prompt2 = \"Please enter the second triangle side:\"\n",
    "l2 = float(input(prompt2))\n",
    "l2 = int(l2)\n",
    "print(l2)\n",
    "prompt3 = \"Please enter the third triangle side:\"\n",
    "l3 = float(input(prompt3))\n",
    "l3 = int(l3)\n",
    "print(l3)\n",
    "\n",
    "def is_triangle(l1, l2, l3):\n",
    "    if (l1 + l2) <= l3:\n",
    "        print('no')\n",
    "    elif (l1 + l2) <= l3:\n",
    "        print('no')\n",
    "    elif (l2 + l3) <= l1:\n",
    "        print('no')\n",
    "    else:\n",
    "        print('yes')\n",
    "is_triangle(l1, l2, l3)"
   ]
  },
  {
   "cell_type": "markdown",
   "metadata": {},
   "source": [
    "## Quick poll\n",
    "About how long did you spend working on this Reading Journal?"
   ]
  },
  {
   "cell_type": "markdown",
   "metadata": {},
   "source": [
    "4-5 hours, but a lot of that time had to do with figuring out jupyter and such"
   ]
  },
  {
   "cell_type": "markdown",
   "metadata": {},
   "source": []
  },
  {
   "cell_type": "markdown",
   "metadata": {},
   "source": [
    "## Notes for the Instructors\n",
    "\n",
    "Please use the space below to write comments to help us plan the next class session.  For instance, if you want to see us go over an example of a particular type of problem, you can indicate that here.\n",
    "\n",
    "Please remember that the best way to get quick feedback from the instructors as well as your peers, is to use Piazza.  However, consider using this channel if it doesn't make sense to post your note to Piazza."
   ]
  },
  {
   "cell_type": "markdown",
   "metadata": {},
   "source": []
  }
 ],
 "metadata": {
  "kernelspec": {
   "display_name": "Python 3",
   "language": "python",
   "name": "python3"
  },
  "language_info": {
   "codemirror_mode": {
    "name": "ipython",
    "version": 3
   },
   "file_extension": ".py",
   "mimetype": "text/x-python",
   "name": "python",
   "nbconvert_exporter": "python",
   "pygments_lexer": "ipython3",
   "version": "3.5.2"
  }
 },
 "nbformat": 4,
 "nbformat_minor": 0
}
