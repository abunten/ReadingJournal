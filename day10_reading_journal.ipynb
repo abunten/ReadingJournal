{
 "cells": [
  {
   "cell_type": "markdown",
   "metadata": {},
   "source": [
    "# Day 10 Reading Journal\n",
    "\n",
    "This journal includes several required exercises, but it is meant to encourage active reading more generally.  You should use the journal to take detailed notes, catalog questions, and explore the content from Think Python deeply.\n",
    "\n",
    "Reading: Review Think Python Chapters 15-17\n",
    "\n",
    "**Due: Thursday, February 23 at 12 noon**\n",
    "\n"
   ]
  },
  {
   "cell_type": "markdown",
   "metadata": {},
   "source": [
    "## [Chapter 15](http://www.greenteapress.com/thinkpython2/html/thinkpython2016.html), [Chapter 16](http://www.greenteapress.com/thinkpython2/html/thinkpython2017.html), [Chapter 17](http://www.greenteapress.com/thinkpython2/html/thinkpython2018.html)\n",
    "\n",
    "\n",
    "By the end of chapter 17, we have all the tools we need to create our own user-defined types known as classes. In this reading journal, we're asking you to review and solidify your understanding of this material so we can build on it for the rest of the course. \n",
    "\n",
    "If you didn't get a chance to fully complete the Day 9 reading journal, you may want to do so now."
   ]
  },
  {
   "cell_type": "markdown",
   "metadata": {
    "problem": "Terminology"
   },
   "source": [
    "### Terminology\n",
    "\n",
    "You should be familiar with the following list of terms and concepts. If any of them are unclear to you, re-read, ask, write a definition in your own words, and try an example if appropriate.\n",
    "\n",
    " - class\n",
    " - object\n",
    " - instance\n",
    " - attribute\n",
    " - method\n",
    " - shallow vs deep copying\n",
    " - pure functions vs modifiers\n",
    " - initializing object instances\n",
    " "
   ]
  },
  {
   "cell_type": "markdown",
   "metadata": {
    "is_question": true,
    "problem": "Exercise 1"
   },
   "source": [
    "### Exercise\n",
    "\n",
    "We're going to take the first steps toward writing a calendar application. To keep things simple, we'll restrict ourselves to a single day for now. Write an `Event` class with the following attributes:\n",
    "\n",
    " - `name`  : Title for the `Event`\n",
    " - `start` : `Time` object representing the start time for the `Event`\n",
    " - `end`   : `Time` object representing the end time for the `Event`\n",
    "\n",
    "You can also augment your `Event` class with additional attributes, such as location and attendees.\n",
    "\n",
    "Write `__init__` and `__str__` methods for your `Event` class."
   ]
  },
  {
   "cell_type": "code",
   "execution_count": 21,
   "metadata": {
    "collapsed": false,
    "solution": "Exercise 1"
   },
   "outputs": [
    {
     "name": "stdout",
     "output_type": "stream",
     "text": [
      "Event: crying \n",
      " starts at - 4:30 \n",
      " ends at - 4:33\n"
     ]
    }
   ],
   "source": [
    "class Event():\n",
    "    \n",
    "    def __init__(self, name = 0, starth = 0, startm = 0, endh = 0, endm = 0):\n",
    "        self.name = name\n",
    "        self.starthour = starth\n",
    "        self.startminute = startm\n",
    "        self.endhour = endh\n",
    "        self.endminute = endm\n",
    "        \n",
    "    def __str__(self):\n",
    "        return ('Event: %s \\n starts at - %d:%d \\n ends at - %d:%d' % (self.name, self.starthour, self.startminute, self.endhour, self.endminute))\n",
    " \n",
    "event = Event('crying', 4, 30, 4, 33)\n",
    "print(event)"
   ]
  },
  {
   "cell_type": "markdown",
   "metadata": {
    "is_question": true,
    "problem": "Exercise 2"
   },
   "source": [
    "### Exercise\n",
    "\n",
    "Write a `duration` method that returns the duration of the `Event` in minutes."
   ]
  },
  {
   "cell_type": "code",
   "execution_count": 27,
   "metadata": {
    "collapsed": false,
    "solution": "Exercise 2"
   },
   "outputs": [
    {
     "name": "stdout",
     "output_type": "stream",
     "text": [
      "Event: bathing in tears \n",
      " starts at - 5:10 \n",
      " ends at - 5:30\n",
      "Event is 20 minutes long\n"
     ]
    }
   ],
   "source": [
    "class Event():\n",
    "    \n",
    "    def __init__(self, name = 0, starth = 0, startm = 0, endh = 0, endm = 0):\n",
    "        self.name = name\n",
    "        self.starthour = starth\n",
    "        self.startminute = startm\n",
    "        self.endhour = endh\n",
    "        self.endminute = endm\n",
    "        \n",
    "    def __str__(self):\n",
    "        return ('Event: %s \\n starts at - %d:%d \\n ends at - %d:%d' % (self.name, self.starthour, self.startminute, self.endhour, self.endminute))\n",
    "    \n",
    "    def duration(self, starthour, startminute, endhour, endminute):\n",
    "        startmin = starthour * 60\n",
    "        endmin = endhour * 60\n",
    "        tstart = startmin + startminute\n",
    "        tend = endmin + endminute\n",
    "        duration = tend - tstart\n",
    "        return ('Event is %d minutes long' % duration)\n",
    "    \n",
    "event =  Event('bathing in tears', 5,10, 5, 30)\n",
    "print(event)        \n",
    "duration = event.duration(5, 10, 5, 30)\n",
    "print(duration)"
   ]
  },
  {
   "cell_type": "markdown",
   "metadata": {
    "is_question": true,
    "problem": "Exercise 3"
   },
   "source": [
    "### Exercise\n",
    "\n",
    "Write an `Agenda` class that contains several `Event`s for the day.\n",
    "\n",
    "**Quick check: ** How should you store `Event`s within your `Agenda` class?\n"
   ]
  },
  {
   "cell_type": "markdown",
   "metadata": {},
   "source": [
    "They should be stored within the agenda class"
   ]
  },
  {
   "cell_type": "markdown",
   "metadata": {},
   "source": []
  },
  {
   "cell_type": "markdown",
   "metadata": {},
   "source": [
    " "
   ]
  },
  {
   "cell_type": "markdown",
   "metadata": {},
   "source": [
    "Your `Agenda` class should include a `print_agenda` method that prints out your schedule for the day, in order.\n",
    "\n",
    "**Optional:** Include a `is_feasible` method that returns `True` if your schedule has no time conflicts. You may want to write additional helper methods for the `Event` class to make this easier."
   ]
  },
  {
   "cell_type": "code",
   "execution_count": 29,
   "metadata": {
    "collapsed": false,
    "solution": "Exercise 3"
   },
   "outputs": [
    {
     "name": "stdout",
     "output_type": "stream",
     "text": [
      "Agenda for Tomorrow\n",
      "Event: Dancing Alone \n",
      " starts at - 12:45 \n",
      " ends at - 7:30\n",
      "Event: Eating cake \n",
      " starts at - 7:30 \n",
      " ends at - 7:40\n",
      "Event: Look into mirror and question existence \n",
      " starts at - 8:20 \n",
      " ends at - 10:59\n"
     ]
    }
   ],
   "source": [
    "class Event():\n",
    "    \n",
    "    def __init__(self, name = 0, starth = 0, startm = 0, endh = 0, endm = 0):\n",
    "        self.name = name\n",
    "        self.starthour = starth\n",
    "        self.startminute = startm\n",
    "        self.endhour = endh\n",
    "        self.endminute = endm\n",
    "        \n",
    "    def __str__(self):\n",
    "        return ('Event: %s \\n starts at - %d:%d \\n ends at - %d:%d' % (self.name, self.starthour, self.startminute, self.endhour, self.endminute))\n",
    "    \n",
    "    def duration(self, starthour, startminute, endhour, endminute):\n",
    "        startmin = starthour * 60\n",
    "        endmin = endhour * 60\n",
    "        tstart = startmin + startminute\n",
    "        tend = endmin + endminute\n",
    "        duration = tend - tstart\n",
    "        return ('Event is %d minutes long' % duration)\n",
    "    \n",
    "class Agenda(object):\n",
    "    \n",
    "    def __init__(self, event):\n",
    "        self.event = event\n",
    "        \n",
    "    def __str__(self):\n",
    "        return ('%s') % (self.event)\n",
    "    \n",
    "    def print_agenda(self):\n",
    "        print(self) \n",
    "\n",
    "event = Event('Dancing Alone', 12, 45, 7, 30)\n",
    "event1 = Event('Eating cake', 7, 30, 7, 40)\n",
    "event2 = Event('Look into mirror and question existence', 8, 20, 10, 59)\n",
    "events = [event, event1, event2]      \n",
    "\n",
    "print('Agenda for Tomorrow')\n",
    "for event in events:\n",
    "    agenda = Agenda(event)\n",
    "    print(agenda)"
   ]
  },
  {
   "cell_type": "markdown",
   "metadata": {
    "is_question": true,
    "problem": "Exercise 4"
   },
   "source": [
    "### Going Beyond (optional)\n",
    "\n",
    "Some ideas for taking your application further:\n",
    " - Add people and/or places to the mix to create a scheduling assistant\n",
    " - Extend support for day-of-week or full date. A word of warning: dealing with dates and times in real applications is difficult due to the huge number of special cases (Perfect example: this reading journal is due on Leap Day). Consider using something like the Python [datetime](https://docs.python.org/3/library/datetime.html) module.\n",
    " - Use pickle or some other persistence strategy to save and load your `Agenda`."
   ]
  },
  {
   "cell_type": "code",
   "execution_count": null,
   "metadata": {
    "collapsed": true,
    "solution": "Exercise 4"
   },
   "outputs": [],
   "source": []
  },
  {
   "cell_type": "markdown",
   "metadata": {
    "poll_response": true,
    "solution": "Time spent"
   },
   "source": [
    " "
   ]
  },
  {
   "cell_type": "markdown",
   "metadata": {
    "is_question": true,
    "problem": "Feedback"
   },
   "source": [
    "## Reading Journal feedback\n",
    "\n",
    "[Please complete this short survey](https://docs.google.com/forms/d/e/1FAIpQLScQekhUrf6YYjpfQiAAbavLIA-IJklv_PX1BWbGgxj7JPolmw/viewform?c=0&w=1)\n",
    "\n",
    "If you have any comments on this Reading Journal, feel free to leave them in the survey linked above. This could include suggestions to improve the exercises, topics you'd like to see covered in class next time, or other feedback.\n",
    "\n",
    "If you have Python questions or run into problems while completing the reading, you should post them to Piazza instead so you can get a quick response before your journal is submitted."
   ]
  },
  {
   "cell_type": "markdown",
   "metadata": {
    "feedback_response": true,
    "solution": "Feedback"
   },
   "source": [
    " "
   ]
  }
 ],
 "metadata": {
  "kernelspec": {
   "display_name": "Python 3",
   "language": "python",
   "name": "python3"
  },
  "language_info": {
   "codemirror_mode": {
    "name": "ipython",
    "version": 3
   },
   "file_extension": ".py",
   "mimetype": "text/x-python",
   "name": "python",
   "nbconvert_exporter": "python",
   "pygments_lexer": "ipython3",
   "version": "3.5.2"
  }
 },
 "nbformat": 4,
 "nbformat_minor": 0
}
